{
 "cells": [
  {
   "cell_type": "markdown",
   "metadata": {
    "collapsed": true,
    "deletable": true,
    "editable": true
   },
   "source": [
    "# Image Classification\n",
    "In this project, you'll classify images from the [CIFAR-10 dataset](https://www.cs.toronto.edu/~kriz/cifar.html).  The dataset consists of airplanes, dogs, cats, and other objects. You'll preprocess the images, then train a convolutional neural network on all the samples. The images need to be normalized and the labels need to be one-hot encoded.  You'll get to apply what you learned and build a convolutional, max pooling, dropout, and fully connected layers.  At the end, you'll get to see your neural network's predictions on the sample images.\n",
    "## Get the Data\n",
    "Run the following cell to download the [CIFAR-10 dataset for python](https://www.cs.toronto.edu/~kriz/cifar-10-python.tar.gz)."
   ]
  },
  {
   "cell_type": "code",
   "execution_count": 1,
   "metadata": {
    "collapsed": false,
    "deletable": true,
    "editable": true
   },
   "outputs": [
    {
     "name": "stdout",
     "output_type": "stream",
     "text": [
      "All files found!\n"
     ]
    }
   ],
   "source": [
    "\"\"\"\n",
    "DON'T MODIFY ANYTHING IN THIS CELL THAT IS BELOW THIS LINE\n",
    "\"\"\"\n",
    "from urllib.request import urlretrieve\n",
    "from os.path import isfile, isdir\n",
    "from tqdm import tqdm\n",
    "import problem_unittests as tests\n",
    "import tarfile\n",
    "\n",
    "cifar10_dataset_folder_path = 'cifar-10-batches-py'\n",
    "\n",
    "class DLProgress(tqdm):\n",
    "    last_block = 0\n",
    "\n",
    "    def hook(self, block_num=1, block_size=1, total_size=None):\n",
    "        self.total = total_size\n",
    "        self.update((block_num - self.last_block) * block_size)\n",
    "        self.last_block = block_num\n",
    "\n",
    "if not isfile('cifar-10-python.tar.gz'):\n",
    "    with DLProgress(unit='B', unit_scale=True, miniters=1, desc='CIFAR-10 Dataset') as pbar:\n",
    "        urlretrieve(\n",
    "            'https://www.cs.toronto.edu/~kriz/cifar-10-python.tar.gz',\n",
    "            'cifar-10-python.tar.gz',\n",
    "            pbar.hook)\n",
    "\n",
    "if not isdir(cifar10_dataset_folder_path):\n",
    "    with tarfile.open('cifar-10-python.tar.gz') as tar:\n",
    "        tar.extractall()\n",
    "        tar.close()\n",
    "\n",
    "\n",
    "tests.test_folder_path(cifar10_dataset_folder_path)"
   ]
  },
  {
   "cell_type": "markdown",
   "metadata": {
    "deletable": true,
    "editable": true
   },
   "source": [
    "## Explore the Data\n",
    "The dataset is broken into batches to prevent your machine from running out of memory.  The CIFAR-10 dataset consists of 5 batches, named `data_batch_1`, `data_batch_2`, etc.. Each batch contains the labels and images that are one of the following:\n",
    "* airplane\n",
    "* automobile\n",
    "* bird\n",
    "* cat\n",
    "* deer\n",
    "* dog\n",
    "* frog\n",
    "* horse\n",
    "* ship\n",
    "* truck\n",
    "\n",
    "Understanding a dataset is part of making predictions on the data.  Play around with the code cell below by changing the `batch_id` and `sample_id`. The `batch_id` is the id for a batch (1-5). The `sample_id` is the id for a image and label pair in the batch.\n",
    "\n",
    "Ask yourself \"What are all possible labels?\", \"What is the range of values for the image data?\", \"Are the labels in order or random?\".  Answers to questions like these will help you preprocess the data and end up with better predictions."
   ]
  },
  {
   "cell_type": "code",
   "execution_count": 2,
   "metadata": {
    "collapsed": false,
    "deletable": true,
    "editable": true
   },
   "outputs": [
    {
     "name": "stdout",
     "output_type": "stream",
     "text": [
      "\n",
      "Stats of batch 5:\n",
      "Samples: 10000\n",
      "Label Counts: {0: 1014, 1: 1014, 2: 952, 3: 1016, 4: 997, 5: 1025, 6: 980, 7: 977, 8: 1003, 9: 1022}\n",
      "First 20 Labels: [1, 8, 5, 1, 5, 7, 4, 3, 8, 2, 7, 2, 0, 1, 5, 9, 6, 2, 0, 8]\n",
      "\n",
      "Example of Image 3:\n",
      "Image - Min Value: 0 Max Value: 252\n",
      "Image - Shape: (32, 32, 3)\n",
      "Label - Label Id: 1 Name: automobile\n"
     ]
    },
    {
     "data": {
      "image/png": "[encoded data removed]",
      "text/plain": [
       "<matplotlib.figure.Figure at 0x115c33438>"
      ]
     },
     "metadata": {
      "image/png": {
       "height": 250,
       "width": 253
      }
     },
     "output_type": "display_data"
    }
   ],
   "source": [
    "%matplotlib inline\n",
    "%config InlineBackend.figure_format = 'retina'\n",
    "\n",
    "import helper\n",
    "import numpy as np\n",
    "\n",
    "# Explore the dataset\n",
    "batch_id = 5\n",
    "sample_id = 3\n",
    "helper.display_stats(cifar10_dataset_folder_path, batch_id, sample_id)"
   ]
  },
  {
   "cell_type": "markdown",
   "metadata": {
    "deletable": true,
    "editable": true
   },
   "source": [
    "## Implement Preprocess Functions\n",
    "### Normalize\n",
    "In the cell below, implement the `normalize` function to take in image data, `x`, and return it as a normalized Numpy array. The values should be in the range of 0 to 1, inclusive.  The return object should be the same shape as `x`."
   ]
  },
  {
   "cell_type": "code",
   "execution_count": 3,
   "metadata": {
    "collapsed": false,
    "deletable": true,
    "editable": true
   },
   "outputs": [
    {
     "name": "stdout",
     "output_type": "stream",
     "text": [
      "Tests Passed\n"
     ]
    }
   ],
   "source": [
    "import numpy as np\n",
    "\n",
    "def normalize(x):\n",
    "    \"\"\"\n",
    "    Normalize a list of sample image data in the range of 0 to 1\n",
    "    : x: List of image data.  The image shape is (32, 32, 3)\n",
    "    : return: Numpy array of normalize data\n",
    "    \"\"\"\n",
    "    # TODO: Implement Function\n",
    "    x = x / 255\n",
    "    return x\n",
    "\n",
    "\n",
    "\"\"\"\n",
    "DON'T MODIFY ANYTHING IN THIS CELL THAT IS BELOW THIS LINE\n",
    "\"\"\"\n",
    "tests.test_normalize(normalize)"
   ]
  },
  {
   "cell_type": "markdown",
   "metadata": {
    "deletable": true,
    "editable": true
   },
   "source": [
    "### One-hot encode\n",
    "Just like the previous code cell, you'll be implementing a function for preprocessing.  This time, you'll implement the `one_hot_encode` function. The input, `x`, are a list of labels.  Implement the function to return the list of labels as One-Hot encoded Numpy array.  The possible values for labels are 0 to 9. The one-hot encoding function should return the same encoding for each value between each call to `one_hot_encode`.  Make sure to save the map of encodings outside the function.\n",
    "\n",
    "**Hint:**\n",
    "\n",
    "Look into LabelBinarizer in the preprocessing module of sklearn."
   ]
  },
  {
   "cell_type": "code",
   "execution_count": 4,
   "metadata": {
    "collapsed": false,
    "deletable": true,
    "editable": true
   },
   "outputs": [
    {
     "name": "stdout",
     "output_type": "stream",
     "text": [
      "Tests Passed\n"
     ]
    }
   ],
   "source": [
    "from sklearn import preprocessing\n",
    "\n",
    "encodings = []\n",
    "\n",
    "def one_hot_encode(x):\n",
    "    \"\"\"\n",
    "    One hot encode a list of sample labels. Return a one-hot encoded vector for each label.\n",
    "    : x: List of sample Labels\n",
    "    : return: Numpy array of one-hot encoded labels\n",
    "    \"\"\"\n",
    "    # TODO: Implement Function\n",
    "    for  item in x:\n",
    "        if item not in encodings:\n",
    "            encodings.append(item)\n",
    "    lb = preprocessing.LabelBinarizer()\n",
    "    lb.fit(encodings)\n",
    "    return lb.transform(x)\n",
    "\n",
    "\n",
    "\"\"\"\n",
    "DON'T MODIFY ANYTHING IN THIS CELL THAT IS BELOW THIS LINE\n",
    "\"\"\"\n",
    "tests.test_one_hot_encode(one_hot_encode)"
   ]
  },
  {
   "cell_type": "markdown",
   "metadata": {
    "deletable": true,
    "editable": true
   },
   "source": [
    "### Randomize Data\n",
    "As you saw from exploring the data above, the order of the samples are randomized.  It doesn't hurt to randomize it again, but you don't need to for this dataset."
   ]
  },
  {
   "cell_type": "markdown",
   "metadata": {
    "deletable": true,
    "editable": true
   },
   "source": [
    "## Preprocess all the data and save it\n",
    "Running the code cell below will preprocess all the CIFAR-10 data and save it to file. The code below also uses 10% of the training data for validation."
   ]
  },
  {
   "cell_type": "code",
   "execution_count": 5,
   "metadata": {
    "collapsed": false,
    "deletable": true,
    "editable": true
   },
   "outputs": [],
   "source": [
    "\"\"\"\n",
    "DON'T MODIFY ANYTHING IN THIS CELL\n",
    "\"\"\"\n",
    "# Preprocess Training, Validation, and Testing Data\n",
    "helper.preprocess_and_save_data(cifar10_dataset_folder_path, normalize, one_hot_encode)"
   ]
  },
  {
   "cell_type": "markdown",
   "metadata": {
    "deletable": true,
    "editable": true
   },
   "source": [
    "# Check Point\n",
    "This is your first checkpoint.  If you ever decide to come back to this notebook or have to restart the notebook, you can start from here.  The preprocessed data has been saved to disk."
   ]
  },
  {
   "cell_type": "code",
   "execution_count": 6,
   "metadata": {
    "collapsed": false,
    "deletable": true,
    "editable": true
   },
   "outputs": [],
   "source": [
    "\"\"\"\n",
    "DON'T MODIFY ANYTHING IN THIS CELL\n",
    "\"\"\"\n",
    "import pickle\n",
    "import problem_unittests as tests\n",
    "import helper\n",
    "\n",
    "# Load the Preprocessed Validation data\n",
    "valid_features, valid_labels = pickle.load(open('preprocess_validation.p', mode='rb'))"
   ]
  },
  {
   "cell_type": "markdown",
   "metadata": {
    "deletable": true,
    "editable": true
   },
   "source": [
    "## Build the network\n",
    "For the neural network, you'll build each layer into a function.  Most of the code you've seen has been outside of functions. To test your code more thoroughly, we require that you put each layer in a function.  This allows us to give you better feedback and test for simple mistakes using our unittests before you submit your project.\n",
    "\n",
    ">**Note:** If you're finding it hard to dedicate enough time for this course each week, we've provided a small shortcut to this part of the project. In the next couple of problems, you'll have the option to use classes from the [TensorFlow Layers](https://www.tensorflow.org/api_docs/python/tf/layers) or [TensorFlow Layers (contrib)](https://www.tensorflow.org/api_guides/python/contrib.layers) packages to build each layer, except the layers you build in the \"Convolutional and Max Pooling Layer\" section.  TF Layers is similar to Keras's and TFLearn's abstraction to layers, so it's easy to pickup.\n",
    "\n",
    ">However, if you would like to get the most out of this course, try to solve all the problems _without_ using anything from the TF Layers packages. You **can** still use classes from other packages that happen to have the same name as ones you find in TF Layers! For example, instead of using the TF Layers version of the `conv2d` class, [tf.layers.conv2d](https://www.tensorflow.org/api_docs/python/tf/layers/conv2d), you would want to use the TF Neural Network version of `conv2d`, [tf.nn.conv2d](https://www.tensorflow.org/api_docs/python/tf/nn/conv2d). \n",
    "\n",
    "Let's begin!\n",
    "\n",
    "### Input\n",
    "The neural network needs to read the image data, one-hot encoded labels, and dropout keep probability. Implement the following functions\n",
    "* Implement `neural_net_image_input`\n",
    " * Return a [TF Placeholder](https://www.tensorflow.org/api_docs/python/tf/placeholder)\n",
    " * Set the shape using `image_shape` with batch size set to `None`.\n",
    " * Name the TensorFlow placeholder \"x\" using the TensorFlow `name` parameter in the [TF Placeholder](https://www.tensorflow.org/api_docs/python/tf/placeholder).\n",
    "* Implement `neural_net_label_input`\n",
    " * Return a [TF Placeholder](https://www.tensorflow.org/api_docs/python/tf/placeholder)\n",
    " * Set the shape using `n_classes` with batch size set to `None`.\n",
    " * Name the TensorFlow placeholder \"y\" using the TensorFlow `name` parameter in the [TF Placeholder](https://www.tensorflow.org/api_docs/python/tf/placeholder).\n",
    "* Implement `neural_net_keep_prob_input`\n",
    " * Return a [TF Placeholder](https://www.tensorflow.org/api_docs/python/tf/placeholder) for dropout keep probability.\n",
    " * Name the TensorFlow placeholder \"keep_prob\" using the TensorFlow `name` parameter in the [TF Placeholder](https://www.tensorflow.org/api_docs/python/tf/placeholder).\n",
    "\n",
    "These names will be used at the end of the project to load your saved model.\n",
    "\n",
    "Note: `None` for shapes in TensorFlow allow for a dynamic size."
   ]
  },
  {
   "cell_type": "code",
   "execution_count": 7,
   "metadata": {
    "collapsed": false,
    "deletable": true,
    "editable": true
   },
   "outputs": [
    {
     "name": "stdout",
     "output_type": "stream",
     "text": [
      "Image Input Tests Passed.\n",
      "Label Input Tests Passed.\n",
      "Keep Prob Tests Passed.\n"
     ]
    }
   ],
   "source": [
    "import tensorflow as tf\n",
    "\n",
    "def neural_net_image_input(image_shape):\n",
    "    \"\"\"\n",
    "    Return a Tensor for a batch of image input\n",
    "    : image_shape: Shape of the images\n",
    "    : return: Tensor for image input.\n",
    "    \"\"\"\n",
    "    # TODO: Implement Function\n",
    "    return tf.placeholder(tf.float32, shape=(None, image_shape[0], image_shape[1], image_shape[2]), name='x')\n",
    "# features = tf.placeholder(tf.float32, [None, n_input])\n",
    "\n",
    "def neural_net_label_input(n_classes):\n",
    "    \"\"\"\n",
    "    Return a Tensor for a batch of label input\n",
    "    : n_classes: Number of classes\n",
    "    : return: Tensor for label input.\n",
    "    \"\"\"\n",
    "    # TODO: Implement Function\n",
    "    return tf.placeholder(tf.float32, shape=(None, n_classes), name='y')\n",
    "\n",
    "\n",
    "def neural_net_keep_prob_input():\n",
    "    \"\"\"\n",
    "    Return a Tensor for keep probability\n",
    "    : return: Tensor for keep probability.\n",
    "    \"\"\"\n",
    "    # TODO: Implement Function\n",
    "    return tf.placeholder(tf.float32, name='keep_prob')\n",
    "\n",
    "\n",
    "\"\"\"\n",
    "DON'T MODIFY ANYTHING IN THIS CELL THAT IS BELOW THIS LINE\n",
    "\"\"\"\n",
    "tf.reset_default_graph()\n",
    "tests.test_nn_image_inputs(neural_net_image_input)\n",
    "tests.test_nn_label_inputs(neural_net_label_input)\n",
    "tests.test_nn_keep_prob_inputs(neural_net_keep_prob_input)"
   ]
  },
  {
   "cell_type": "markdown",
   "metadata": {
    "deletable": true,
    "editable": true
   },
   "source": [
    "### Convolution and Max Pooling Layer\n",
    "Convolution layers have a lot of success with images. For this code cell, you should implement the function `conv2d_maxpool` to apply convolution then max pooling:\n",
    "* Create the weight and bias using `conv_ksize`, `conv_num_outputs` and the shape of `x_tensor`.\n",
    "* Apply a convolution to `x_tensor` using weight and `conv_strides`.\n",
    " * We recommend you use same padding, but you're welcome to use any padding.\n",
    "* Add bias\n",
    "* Add a nonlinear activation to the convolution.\n",
    "* Apply Max Pooling using `pool_ksize` and `pool_strides`.\n",
    " * We recommend you use same padding, but you're welcome to use any padding.\n",
    "\n",
    "**Note:** You **can't** use [TensorFlow Layers](https://www.tensorflow.org/api_docs/python/tf/layers) or [TensorFlow Layers (contrib)](https://www.tensorflow.org/api_guides/python/contrib.layers) for **this** layer, but you can still use TensorFlow's [Neural Network](https://www.tensorflow.org/api_docs/python/tf/nn) package. You may still use the shortcut option for all the **other** layers.\n",
    "\n",
    "** Hint: **\n",
    "\n",
    "When unpacking values as an argument in Python, look into the [unpacking](https://docs.python.org/3/tutorial/controlflow.html#unpacking-argument-lists) operator. "
   ]
  },
  {
   "cell_type": "code",
   "execution_count": 8,
   "metadata": {
    "collapsed": false,
    "deletable": true,
    "editable": true
   },
   "outputs": [
    {
     "name": "stdout",
     "output_type": "stream",
     "text": [
      "Tests Passed\n"
     ]
    }
   ],
   "source": [
    "def conv2d_maxpool(x_tensor, conv_num_outputs, conv_ksize, conv_strides, pool_ksize, pool_strides):\n",
    "    \"\"\"\n",
    "    Apply convolution then max pooling to x_tensor\n",
    "    :param x_tensor: TensorFlow Tensor\n",
    "    :param conv_num_outputs: Number of outputs for the convolutional layer\n",
    "    :param conv_ksize: kernal size 2-D Tuple for the convolutional layer\n",
    "    :param conv_strides: Stride 2-D Tuple for convolution\n",
    "    :param pool_ksize: kernal size 2-D Tuple for pool\n",
    "    :param pool_strides: Stride 2-D Tuple for pool\n",
    "    : return: A tensor that represents convolution and max pooling of x_tensor\n",
    "    \"\"\"\n",
    "    # TODO: Implement Function\n",
    "    \n",
    "    weight = tf.Variable(tf.truncated_normal([*conv_ksize, tf.to_int32(x_tensor.get_shape().as_list()[3]), conv_num_outputs], mean=0.0, stddev= 1.0/conv_num_outputs, dtype=tf.float32))\n",
    "    bias = tf.Variable(tf.truncated_normal([conv_num_outputs], mean=0.0, stddev= 1.0/conv_num_outputs, dtype=tf.float32))\n",
    "\n",
    "    conv_layer = tf.nn.conv2d(x_tensor, weight, strides=[1, *conv_strides, 1], padding='SAME')\n",
    "    conv_layer = tf.nn.bias_add(conv_layer, bias)\n",
    "    conv_layer = tf.nn.relu(conv_layer)\n",
    "    conv_layer = tf.nn.max_pool(\n",
    "        conv_layer,\n",
    "        ksize=[1, *pool_ksize, 1],\n",
    "        strides=[1, *pool_strides, 1],\n",
    "        padding='SAME')\n",
    "                       \n",
    "    return conv_layer\n",
    "\n",
    "\n",
    "\"\"\"\n",
    "DON'T MODIFY ANYTHING IN THIS CELL THAT IS BELOW THIS LINE\n",
    "\"\"\"\n",
    "tests.test_con_pool(conv2d_maxpool)"
   ]
  },
  {
   "cell_type": "markdown",
   "metadata": {
    "deletable": true,
    "editable": true
   },
   "source": [
    "### Flatten Layer\n",
    "Implement the `flatten` function to change the dimension of `x_tensor` from a 4-D tensor to a 2-D tensor.  The output should be the shape (*Batch Size*, *Flattened Image Size*). Shortcut option: you can use classes from the [TensorFlow Layers](https://www.tensorflow.org/api_docs/python/tf/layers) or [TensorFlow Layers (contrib)](https://www.tensorflow.org/api_guides/python/contrib.layers) packages for this layer. For more of a challenge, only use other TensorFlow packages."
   ]
  },
  {
   "cell_type": "code",
   "execution_count": 9,
   "metadata": {
    "collapsed": false,
    "deletable": true,
    "editable": true
   },
   "outputs": [
    {
     "name": "stdout",
     "output_type": "stream",
     "text": [
      "Tests Passed\n"
     ]
    }
   ],
   "source": [
    "def flatten(x_tensor):\n",
    "    \"\"\"\n",
    "    Flatten x_tensor to (Batch Size, Flattened Image Size)\n",
    "    : x_tensor: A tensor of size (Batch Size, ...), where ... are the image dimensions.\n",
    "    : return: A tensor of size (Batch Size, Flattened Image Size).\n",
    "    \"\"\"\n",
    "    # TODO: Implement Function\n",
    "    return tf.reshape(x_tensor, [-1, np.prod(x_tensor.get_shape().as_list()[1:])])\n",
    "    # return tf.contrib.layers.flatten(x_tensor)\n",
    "\n",
    "\n",
    "\"\"\"\n",
    "DON'T MODIFY ANYTHING IN THIS CELL THAT IS BELOW THIS LINE\n",
    "\"\"\"\n",
    "tests.test_flatten(flatten)"
   ]
  },
  {
   "cell_type": "markdown",
   "metadata": {
    "deletable": true,
    "editable": true
   },
   "source": [
    "### Fully-Connected Layer\n",
    "Implement the `fully_conn` function to apply a fully connected layer to `x_tensor` with the shape (*Batch Size*, *num_outputs*). Shortcut option: you can use classes from the [TensorFlow Layers](https://www.tensorflow.org/api_docs/python/tf/layers) or [TensorFlow Layers (contrib)](https://www.tensorflow.org/api_guides/python/contrib.layers) packages for this layer. For more of a challenge, only use other TensorFlow packages."
   ]
  },
  {
   "cell_type": "code",
   "execution_count": 10,
   "metadata": {
    "collapsed": false,
    "deletable": true,
    "editable": true
   },
   "outputs": [
    {
     "name": "stdout",
     "output_type": "stream",
     "text": [
      "Tests Passed\n"
     ]
    }
   ],
   "source": [
    "def fully_conn(x_tensor, num_outputs):\n",
    "    \"\"\"\n",
    "    Apply a fully connected layer to x_tensor using weight and bias\n",
    "    : x_tensor: A 2-D tensor where the first dimension is batch size.\n",
    "    : num_outputs: The number of output that the new tensor should be.\n",
    "    : return: A 2-D tensor where the second dimension is num_outputs.\n",
    "    \"\"\"\n",
    "    # TODO: Implement Function\n",
    "    weight = tf.Variable(tf.truncated_normal([x_tensor.get_shape().as_list()[1], num_outputs], mean=0.0, stddev= 1.0/num_outputs, dtype=tf.float32))\n",
    "    bias = tf.Variable(tf.truncated_normal([num_outputs], mean=0.0, stddev= 1.0/num_outputs, dtype=tf.float32))\n",
    "    return  tf.nn.relu(tf.add(tf.matmul(x_tensor, weight), bias))\n",
    "\n",
    "\n",
    "\"\"\"\n",
    "DON'T MODIFY ANYTHING IN THIS CELL THAT IS BELOW THIS LINE\n",
    "\"\"\"\n",
    "tests.test_fully_conn(fully_conn)"
   ]
  },
  {
   "cell_type": "markdown",
   "metadata": {
    "deletable": true,
    "editable": true
   },
   "source": [
    "### Output Layer\n",
    "Implement the `output` function to apply a fully connected layer to `x_tensor` with the shape (*Batch Size*, *num_outputs*). Shortcut option: you can use classes from the [TensorFlow Layers](https://www.tensorflow.org/api_docs/python/tf/layers) or [TensorFlow Layers (contrib)](https://www.tensorflow.org/api_guides/python/contrib.layers) packages for this layer. For more of a challenge, only use other TensorFlow packages.\n",
    "\n",
    "**Note:** Activation, softmax, or cross entropy should **not** be applied to this."
   ]
  },
  {
   "cell_type": "code",
   "execution_count": 11,
   "metadata": {
    "collapsed": false,
    "deletable": true,
    "editable": true
   },
   "outputs": [
    {
     "name": "stdout",
     "output_type": "stream",
     "text": [
      "Tests Passed\n"
     ]
    }
   ],
   "source": [
    "def output(x_tensor, num_outputs):\n",
    "    \"\"\"\n",
    "    Apply a output layer to x_tensor using weight and bias\n",
    "    : x_tensor: A 2-D tensor where the first dimension is batch size.\n",
    "    : num_outputs: The number of output that the new tensor should be.\n",
    "    : return: A 2-D tensor where the second dimension is num_outputs.\n",
    "    \"\"\"\n",
    "    # TODO: Implement Function\n",
    "    weight = tf.Variable(tf.truncated_normal([x_tensor.get_shape().as_list()[1], num_outputs], mean=0.0, stddev= 1.0/num_outputs, dtype=tf.float32))\n",
    "    bias = tf.Variable(tf.truncated_normal([num_outputs], mean=0.0, stddev= 1.0/num_outputs, dtype=tf.float32))\n",
    "    return tf.add(tf.matmul(x_tensor, weight), bias)\n",
    "\n",
    "\n",
    "\"\"\"\n",
    "DON'T MODIFY ANYTHING IN THIS CELL THAT IS BELOW THIS LINE\n",
    "\"\"\"\n",
    "tests.test_output(output)"
   ]
  },
  {
   "cell_type": "markdown",
   "metadata": {
    "deletable": true,
    "editable": true
   },
   "source": [
    "### Create Convolutional Model\n",
    "Implement the function `conv_net` to create a convolutional neural network model. The function takes in a batch of images, `x`, and outputs logits.  Use the layers you created above to create this model:\n",
    "\n",
    "* Apply 1, 2, or 3 Convolution and Max Pool layers\n",
    "* Apply a Flatten Layer\n",
    "* Apply 1, 2, or 3 Fully Connected Layers\n",
    "* Apply an Output Layer\n",
    "* Return the output\n",
    "* Apply [TensorFlow's Dropout](https://www.tensorflow.org/api_docs/python/tf/nn/dropout) to one or more layers in the model using `keep_prob`. "
   ]
  },
  {
   "cell_type": "code",
   "execution_count": 12,
   "metadata": {
    "collapsed": false,
    "deletable": true,
    "editable": true
   },
   "outputs": [
    {
     "name": "stdout",
     "output_type": "stream",
     "text": [
      "Neural Network Built!\n"
     ]
    }
   ],
   "source": [
    "def conv_net(x, keep_prob):\n",
    "    \"\"\"\n",
    "    Create a convolutional neural network model\n",
    "    : x: Placeholder tensor that holds image data.\n",
    "    : keep_prob: Placeholder tensor that hold dropout keep probability.\n",
    "    : return: Tensor that represents logits\n",
    "    \"\"\"\n",
    "    # TODO: Apply 1, 2, or 3 Convolution and Max Pool layers\n",
    "    #    Play around with different number of outputs, kernel size and stride\n",
    "    # Function Definition from Above:\n",
    "    #   conv2d_maxpool(x_tensor, conv_num_outputs, conv_ksize, conv_strides, pool_ksize, pool_strides)\n",
    "    model =  conv2d_maxpool(x, 48, (1, 1), (1, 1), (2, 2), (2, 2))\n",
    "    model =  conv2d_maxpool(model, 96, (3, 3), (1, 1), (2, 2), (2, 2))\n",
    "    model =  conv2d_maxpool(model, 192, (5, 5), (1, 1), (2, 2), (2, 2))\n",
    "\n",
    "    # TODO: Apply a Flatten Layer\n",
    "    # Function Definition from Above:\n",
    "    #   flatten(x_tensor)\n",
    "    model = flatten(model)\n",
    "  \n",
    "    # TODO: Apply 1, 2, or 3 Fully Connected Layers\n",
    "    #    Play around with different number of outputs\n",
    "    # Function Definition from Above:\n",
    "    #   fully_conn(x_tensor, num_outputs)\n",
    "    model = fully_conn(model, 1024) \n",
    "    tf.nn.dropout(model, keep_prob)\n",
    "    \n",
    "    \n",
    "    # TODO: Apply an Output Layer\n",
    "    #    Set this to the number of classes\n",
    "    # Function Definition from Above:\n",
    "    #   output(x_tensor, num_outputs)\n",
    "    model =  output(model, 10)\n",
    "    \n",
    "    # TODO: return output\n",
    "    return model\n",
    "\n",
    "\n",
    "\"\"\"\n",
    "DON'T MODIFY ANYTHING IN THIS CELL THAT IS BELOW THIS LINE\n",
    "\"\"\"\n",
    "\n",
    "##############################\n",
    "## Build the Neural Network ##\n",
    "##############################\n",
    "\n",
    "# Remove previous weights, bias, inputs, etc..\n",
    "tf.reset_default_graph()\n",
    "\n",
    "# Inputs\n",
    "x = neural_net_image_input((32, 32, 3))\n",
    "y = neural_net_label_input(10)\n",
    "keep_prob = neural_net_keep_prob_input()\n",
    "\n",
    "# Model\n",
    "logits = conv_net(x, keep_prob)\n",
    "\n",
    "# Name logits Tensor, so that is can be loaded from disk after training\n",
    "logits = tf.identity(logits, name='logits')\n",
    "\n",
    "# Loss and Optimizer\n",
    "cost = tf.reduce_mean(tf.nn.softmax_cross_entropy_with_logits(logits=logits, labels=y))\n",
    "optimizer = tf.train.AdamOptimizer().minimize(cost)\n",
    "\n",
    "# Accuracy\n",
    "correct_pred = tf.equal(tf.argmax(logits, 1), tf.argmax(y, 1))\n",
    "accuracy = tf.reduce_mean(tf.cast(correct_pred, tf.float32), name='accuracy')\n",
    "\n",
    "tests.test_conv_net(conv_net)"
   ]
  },
  {
   "cell_type": "markdown",
   "metadata": {
    "deletable": true,
    "editable": true
   },
   "source": [
    "## Train the Neural Network\n",
    "### Single Optimization\n",
    "Implement the function `train_neural_network` to do a single optimization.  The optimization should use `optimizer` to optimize in `session` with a `feed_dict` of the following:\n",
    "* `x` for image input\n",
    "* `y` for labels\n",
    "* `keep_prob` for keep probability for dropout\n",
    "\n",
    "This function will be called for each batch, so `tf.global_variables_initializer()` has already been called.\n",
    "\n",
    "Note: Nothing needs to be returned. This function is only optimizing the neural network."
   ]
  },
  {
   "cell_type": "code",
   "execution_count": 13,
   "metadata": {
    "collapsed": false,
    "deletable": true,
    "editable": true
   },
   "outputs": [
    {
     "name": "stdout",
     "output_type": "stream",
     "text": [
      "Tests Passed\n"
     ]
    }
   ],
   "source": [
    "def train_neural_network(session, optimizer, keep_probability, feature_batch, label_batch):\n",
    "    \"\"\"\n",
    "    Optimize the session on a batch of images and labels\n",
    "    : session: Current TensorFlow session\n",
    "    : optimizer: TensorFlow optimizer function\n",
    "    : keep_probability: keep probability\n",
    "    : feature_batch: Batch of Numpy image data\n",
    "    : label_batch: Batch of Numpy label data\n",
    "    \"\"\"\n",
    "    \n",
    "    # TODO: Implement Function\n",
    "    session.run(optimizer, feed_dict={\n",
    "    x: feature_batch,\n",
    "    y: label_batch,\n",
    "    keep_prob: keep_probability})\n",
    "    \n",
    "\n",
    "\"\"\"\n",
    "DON'T MODIFY ANYTHING IN THIS CELL THAT IS BELOW THIS LINE\n",
    "\"\"\"\n",
    "tests.test_train_nn(train_neural_network)"
   ]
  },
  {
   "cell_type": "markdown",
   "metadata": {
    "deletable": true,
    "editable": true
   },
   "source": [
    "### Show Stats\n",
    "Implement the function `print_stats` to print loss and validation accuracy.  Use the global variables `valid_features` and `valid_labels` to calculate validation accuracy.  Use a keep probability of `1.0` to calculate the loss and validation accuracy."
   ]
  },
  {
   "cell_type": "code",
   "execution_count": 14,
   "metadata": {
    "collapsed": false,
    "deletable": true,
    "editable": true
   },
   "outputs": [],
   "source": [
    "def print_stats(session, feature_batch, label_batch, cost, accuracy):\n",
    "    \"\"\"\n",
    "    Print information about loss and validation accuracy\n",
    "    : session: Current TensorFlow session\n",
    "    : feature_batch: Batch of Numpy image data\n",
    "    : label_batch: Batch of Numpy label data\n",
    "    : cost: TensorFlow cost function\n",
    "    : accuracy: TensorFlow accuracy function\n",
    "    \"\"\"\n",
    "    # TODO: Implement Function\n",
    "    loss = session.run(cost, feed_dict={\n",
    "        x: feature_batch,\n",
    "        y: label_batch,\n",
    "        keep_prob: 1.})\n",
    "    valid_acc = session.run(accuracy, feed_dict={\n",
    "        x: valid_features,\n",
    "        y: valid_labels,\n",
    "        keep_prob: 1.})\n",
    "    print('Loss {} and Valid accuracy \"{}\"'.format(loss, valid_acc))"
   ]
  },
  {
   "cell_type": "markdown",
   "metadata": {
    "deletable": true,
    "editable": true
   },
   "source": [
    "### Hyperparameters\n",
    "Tune the following parameters:\n",
    "* Set `epochs` to the number of iterations until the network stops learning or start overfitting\n",
    "* Set `batch_size` to the highest number that your machine has memory for.  Most people set them to common sizes of memory:\n",
    " * 64\n",
    " * 128\n",
    " * 256\n",
    " * ...\n",
    "* Set `keep_probability` to the probability of keeping a node using dropout"
   ]
  },
  {
   "cell_type": "code",
   "execution_count": 17,
   "metadata": {
    "collapsed": true,
    "deletable": true,
    "editable": true
   },
   "outputs": [],
   "source": [
    "# TODO: Tune Parameters\n",
    "epochs = 25\n",
    "batch_size = 256\n",
    "keep_probability = .9"
   ]
  },
  {
   "cell_type": "markdown",
   "metadata": {
    "deletable": true,
    "editable": true
   },
   "source": [
    "### Train on a Single CIFAR-10 Batch\n",
    "Instead of training the neural network on all the CIFAR-10 batches of data, let's use a single batch. This should save time while you iterate on the model to get a better accuracy.  Once the final validation accuracy is 50% or greater, run the model on all the data in the next section."
   ]
  },
  {
   "cell_type": "code",
   "execution_count": 16,
   "metadata": {
    "collapsed": false,
    "deletable": true,
    "editable": true
   },
   "outputs": [
    {
     "name": "stdout",
     "output_type": "stream",
     "text": [
      "Checking the Training on a Single Batch...\n",
      "Epoch  1, CIFAR-10 Batch 1:  Loss 2.1875267028808594 and Valid accuracy \"0.21379999816417694\"\n",
      "Epoch  2, CIFAR-10 Batch 1:  Loss 2.1219756603240967 and Valid accuracy \"0.27459999918937683\"\n",
      "Epoch  3, CIFAR-10 Batch 1:  Loss 2.012730360031128 and Valid accuracy \"0.3255999982357025\"\n",
      "Epoch  4, CIFAR-10 Batch 1:  Loss 1.9053001403808594 and Valid accuracy \"0.33820000290870667\"\n",
      "Epoch  5, CIFAR-10 Batch 1:  Loss 1.7580077648162842 and Valid accuracy \"0.36820000410079956\"\n",
      "Epoch  6, CIFAR-10 Batch 1:  Loss 1.6428272724151611 and Valid accuracy \"0.3903999924659729\"\n",
      "Epoch  7, CIFAR-10 Batch 1:  Loss 1.5629339218139648 and Valid accuracy \"0.39959999918937683\"\n",
      "Epoch  8, CIFAR-10 Batch 1:  Loss 1.5013023614883423 and Valid accuracy \"0.4113999903202057\"\n",
      "Epoch  9, CIFAR-10 Batch 1:  Loss 1.450757384300232 and Valid accuracy \"0.42320001125335693\"\n",
      "Epoch 10, CIFAR-10 Batch 1:  Loss 1.4078670740127563 and Valid accuracy \"0.4350000023841858\"\n",
      "Epoch 11, CIFAR-10 Batch 1:  Loss 1.346350073814392 and Valid accuracy \"0.4456000030040741\"\n",
      "Epoch 12, CIFAR-10 Batch 1:  Loss 1.2916053533554077 and Valid accuracy \"0.44839999079704285\"\n",
      "Epoch 13, CIFAR-10 Batch 1:  Loss 1.2141098976135254 and Valid accuracy \"0.45680001378059387\"\n",
      "Epoch 14, CIFAR-10 Batch 1:  Loss 1.1631934642791748 and Valid accuracy \"0.45980000495910645\"\n",
      "Epoch 15, CIFAR-10 Batch 1:  Loss 1.0888689756393433 and Valid accuracy \"0.46799999475479126\"\n",
      "Epoch 16, CIFAR-10 Batch 1:  Loss 1.0096125602722168 and Valid accuracy \"0.4814000129699707\"\n",
      "Epoch 17, CIFAR-10 Batch 1:  Loss 0.9254425168037415 and Valid accuracy \"0.48899999260902405\"\n",
      "Epoch 18, CIFAR-10 Batch 1:  Loss 0.8607264757156372 and Valid accuracy \"0.49399998784065247\"\n",
      "Epoch 19, CIFAR-10 Batch 1:  Loss 0.8047097325325012 and Valid accuracy \"0.4959999918937683\"\n",
      "Epoch 20, CIFAR-10 Batch 1:  Loss 0.7625167369842529 and Valid accuracy \"0.5005999803543091\"\n",
      "Epoch 21, CIFAR-10 Batch 1:  Loss 0.6847367882728577 and Valid accuracy \"0.506600022315979\"\n",
      "Epoch 22, CIFAR-10 Batch 1:  Loss 0.6566934585571289 and Valid accuracy \"0.5058000087738037\"\n",
      "Epoch 23, CIFAR-10 Batch 1:  Loss 0.6101701855659485 and Valid accuracy \"0.5094000101089478\"\n",
      "Epoch 24, CIFAR-10 Batch 1:  Loss 0.5686907768249512 and Valid accuracy \"0.5094000101089478\"\n",
      "Epoch 25, CIFAR-10 Batch 1:  Loss 0.5100380182266235 and Valid accuracy \"0.5080000162124634\"\n",
      "Epoch 26, CIFAR-10 Batch 1:  Loss 0.5070773959159851 and Valid accuracy \"0.4997999966144562\"\n",
      "Epoch 27, CIFAR-10 Batch 1:  Loss 0.4784190058708191 and Valid accuracy \"0.5008000135421753\"\n",
      "Epoch 28, CIFAR-10 Batch 1:  Loss 0.40081754326820374 and Valid accuracy \"0.5239999890327454\"\n",
      "Epoch 29, CIFAR-10 Batch 1:  Loss 0.40276527404785156 and Valid accuracy \"0.5278000235557556\"\n",
      "Epoch 30, CIFAR-10 Batch 1:  Loss 0.3850215971469879 and Valid accuracy \"0.5123999714851379\"\n",
      "Epoch 31, CIFAR-10 Batch 1:  Loss 0.339125394821167 and Valid accuracy \"0.5070000290870667\"\n",
      "Epoch 32, CIFAR-10 Batch 1:  Loss 0.318433552980423 and Valid accuracy \"0.524399995803833\"\n",
      "Epoch 33, CIFAR-10 Batch 1:  Loss 0.27945074439048767 and Valid accuracy \"0.5311999917030334\"\n",
      "Epoch 34, CIFAR-10 Batch 1:  Loss 0.25221723318099976 and Valid accuracy \"0.5396000146865845\"\n",
      "Epoch 35, CIFAR-10 Batch 1:  Loss 0.2059658318758011 and Valid accuracy \"0.5386000275611877\"\n",
      "Epoch 36, CIFAR-10 Batch 1:  Loss 0.17293013632297516 and Valid accuracy \"0.5375999808311462\"\n",
      "Epoch 37, CIFAR-10 Batch 1:  Loss 0.154855877161026 and Valid accuracy \"0.5361999869346619\"\n",
      "Epoch 38, CIFAR-10 Batch 1:  Loss 0.13279983401298523 and Valid accuracy \"0.5425999760627747\"\n",
      "Epoch 39, CIFAR-10 Batch 1:  Loss 0.12147587537765503 and Valid accuracy \"0.5365999937057495\"\n",
      "Epoch 40, CIFAR-10 Batch 1:  Loss 0.10295210033655167 and Valid accuracy \"0.546999990940094\"\n",
      "Epoch 41, CIFAR-10 Batch 1:  Loss 0.10056116431951523 and Valid accuracy \"0.5486000180244446\"\n",
      "Epoch 42, CIFAR-10 Batch 1:  Loss 0.13509342074394226 and Valid accuracy \"0.5356000065803528\"\n",
      "Epoch 43, CIFAR-10 Batch 1:  Loss 0.15830202400684357 and Valid accuracy \"0.5249999761581421\"\n",
      "Epoch 44, CIFAR-10 Batch 1:  Loss 0.09008260816335678 and Valid accuracy \"0.5428000092506409\"\n",
      "Epoch 45, CIFAR-10 Batch 1:  Loss 0.07336471974849701 and Valid accuracy \"0.5447999835014343\"\n",
      "Epoch 46, CIFAR-10 Batch 1:  Loss 0.0681026503443718 and Valid accuracy \"0.5397999882698059\"\n",
      "Epoch 47, CIFAR-10 Batch 1:  Loss 0.09061551094055176 and Valid accuracy \"0.5224000215530396\"\n",
      "Epoch 48, CIFAR-10 Batch 1:  Loss 0.10803965479135513 and Valid accuracy \"0.5202000141143799\"\n",
      "Epoch 49, CIFAR-10 Batch 1:  Loss 0.05913184955716133 and Valid accuracy \"0.5311999917030334\"\n",
      "Epoch 50, CIFAR-10 Batch 1:  Loss 0.04624985158443451 and Valid accuracy \"0.5389999747276306\"\n",
      "Epoch 51, CIFAR-10 Batch 1:  Loss 0.03261200338602066 and Valid accuracy \"0.5356000065803528\"\n",
      "Epoch 52, CIFAR-10 Batch 1:  Loss 0.03899266570806503 and Valid accuracy \"0.5149999856948853\"\n",
      "Epoch 53, CIFAR-10 Batch 1:  Loss 0.061899732798337936 and Valid accuracy \"0.4934000074863434\"\n",
      "Epoch 54, CIFAR-10 Batch 1:  Loss 0.06058434396982193 and Valid accuracy \"0.5440000295639038\"\n",
      "Epoch 55, CIFAR-10 Batch 1:  Loss 0.050657033920288086 and Valid accuracy \"0.5406000018119812\"\n",
      "Epoch 56, CIFAR-10 Batch 1:  Loss 0.07109963893890381 and Valid accuracy \"0.515999972820282\"\n",
      "Epoch 57, CIFAR-10 Batch 1:  Loss 0.03419184684753418 and Valid accuracy \"0.5406000018119812\"\n",
      "Epoch 58, CIFAR-10 Batch 1:  Loss 0.030682438984513283 and Valid accuracy \"0.5397999882698059\"\n",
      "Epoch 59, CIFAR-10 Batch 1:  Loss 0.032027680426836014 and Valid accuracy \"0.5442000031471252\"\n",
      "Epoch 60, CIFAR-10 Batch 1:  Loss 0.04334590584039688 and Valid accuracy \"0.5266000032424927\"\n",
      "Epoch 61, CIFAR-10 Batch 1:  Loss 0.047698281705379486 and Valid accuracy \"0.5098000168800354\"\n",
      "Epoch 62, CIFAR-10 Batch 1:  Loss 0.06053571030497551 and Valid accuracy \"0.4805999994277954\"\n",
      "Epoch 63, CIFAR-10 Batch 1:  Loss 0.026436690241098404 and Valid accuracy \"0.5347999930381775\"\n",
      "Epoch 64, CIFAR-10 Batch 1:  Loss 0.019366635009646416 and Valid accuracy \"0.5468000173568726\"\n",
      "Epoch 65, CIFAR-10 Batch 1:  Loss 0.0184025876224041 and Valid accuracy \"0.5270000100135803\"\n",
      "Epoch 66, CIFAR-10 Batch 1:  Loss 0.012827014550566673 and Valid accuracy \"0.5271999835968018\"\n",
      "Epoch 67, CIFAR-10 Batch 1:  Loss 0.011214430443942547 and Valid accuracy \"0.5156000256538391\"\n",
      "Epoch 68, CIFAR-10 Batch 1:  Loss 0.01335916854441166 and Valid accuracy \"0.5040000081062317\"\n",
      "Epoch 69, CIFAR-10 Batch 1:  Loss 0.009022928774356842 and Valid accuracy \"0.527999997138977\"\n",
      "Epoch 70, CIFAR-10 Batch 1:  Loss 0.0167173333466053 and Valid accuracy \"0.522599995136261\"\n",
      "Epoch 71, CIFAR-10 Batch 1:  Loss 0.014224058017134666 and Valid accuracy \"0.5378000140190125\"\n",
      "Epoch 72, CIFAR-10 Batch 1:  Loss 0.005559234879910946 and Valid accuracy \"0.5297999978065491\"\n",
      "Epoch 73, CIFAR-10 Batch 1:  Loss 0.005606627557426691 and Valid accuracy \"0.5260000228881836\"\n",
      "Epoch 74, CIFAR-10 Batch 1:  Loss 0.005855692084878683 and Valid accuracy \"0.5221999883651733\"\n",
      "Epoch 75, CIFAR-10 Batch 1:  Loss 0.0082158874720335 and Valid accuracy \"0.5171999931335449\"\n",
      "Epoch 76, CIFAR-10 Batch 1:  Loss 0.013344150967895985 and Valid accuracy \"0.475600004196167\"\n",
      "Epoch 77, CIFAR-10 Batch 1:  Loss 0.01595546491444111 and Valid accuracy \"0.4747999906539917\"\n",
      "Epoch 78, CIFAR-10 Batch 1:  Loss 0.013303445652127266 and Valid accuracy \"0.4991999864578247\"\n",
      "Epoch 79, CIFAR-10 Batch 1:  Loss 0.020916612818837166 and Valid accuracy \"0.515999972820282\"\n",
      "Epoch 80, CIFAR-10 Batch 1:  Loss 0.03317119553685188 and Valid accuracy \"0.5076000094413757\"\n",
      "Epoch 81, CIFAR-10 Batch 1:  Loss 0.00815130677074194 and Valid accuracy \"0.5288000106811523\"\n",
      "Epoch 82, CIFAR-10 Batch 1:  Loss 0.0061346301808953285 and Valid accuracy \"0.532800018787384\"\n",
      "Epoch 83, CIFAR-10 Batch 1:  Loss 0.010222256183624268 and Valid accuracy \"0.5212000012397766\"\n",
      "Epoch 84, CIFAR-10 Batch 1:  Loss 0.01516837440431118 and Valid accuracy \"0.4975999891757965\"\n",
      "Epoch 85, CIFAR-10 Batch 1:  Loss 0.01927109621465206 and Valid accuracy \"0.4796000123023987\"\n",
      "Epoch 86, CIFAR-10 Batch 1:  Loss 0.0065940679050982 and Valid accuracy \"0.5049999952316284\"\n",
      "Epoch 87, CIFAR-10 Batch 1:  Loss 0.007205639965832233 and Valid accuracy \"0.5171999931335449\"\n",
      "Epoch 88, CIFAR-10 Batch 1:  Loss 0.005977985914796591 and Valid accuracy \"0.5365999937057495\"\n",
      "Epoch 89, CIFAR-10 Batch 1:  Loss 0.003130917903035879 and Valid accuracy \"0.5365999937057495\"\n",
      "Epoch 90, CIFAR-10 Batch 1:  Loss 0.004601117689162493 and Valid accuracy \"0.5342000126838684\"\n",
      "Epoch 91, CIFAR-10 Batch 1:  Loss 0.004072525538504124 and Valid accuracy \"0.5275999903678894\"\n",
      "Epoch 92, CIFAR-10 Batch 1:  Loss 0.004686357919126749 and Valid accuracy \"0.5275999903678894\"\n",
      "Epoch 93, CIFAR-10 Batch 1:  Loss 0.0036990619264543056 and Valid accuracy \"0.5249999761581421\"\n",
      "Epoch 94, CIFAR-10 Batch 1:  Loss 0.004815835505723953 and Valid accuracy \"0.5206000208854675\"\n",
      "Epoch 95, CIFAR-10 Batch 1:  Loss 0.002922970801591873 and Valid accuracy \"0.5249999761581421\"\n",
      "Epoch 96, CIFAR-10 Batch 1:  Loss 0.003615807043388486 and Valid accuracy \"0.5315999984741211\"\n",
      "Epoch 97, CIFAR-10 Batch 1:  Loss 0.0032967485021799803 and Valid accuracy \"0.5275999903678894\"\n",
      "Epoch 98, CIFAR-10 Batch 1:  Loss 0.0029224329628050327 and Valid accuracy \"0.5210000276565552\"\n",
      "Epoch 99, CIFAR-10 Batch 1:  Loss 0.0008151827496476471 and Valid accuracy \"0.5397999882698059\"\n",
      "Epoch 100, CIFAR-10 Batch 1:  Loss 0.0012479672441259027 and Valid accuracy \"0.5465999841690063\"\n"
     ]
    }
   ],
   "source": [
    "\"\"\"\n",
    "DON'T MODIFY ANYTHING IN THIS CELL\n",
    "\"\"\"\n",
    "print('Checking the Training on a Single Batch...')\n",
    "with tf.Session() as sess:\n",
    "    # Initializing the variables\n",
    "    sess.run(tf.global_variables_initializer())\n",
    "    \n",
    "    # Training cycle\n",
    "    for epoch in range(epochs):\n",
    "        batch_i = 1       \n",
    "        for batch_features, batch_labels in helper.load_preprocess_training_batch(batch_i, batch_size):\n",
    "            train_neural_network(sess, optimizer, keep_probability, batch_features, batch_labels)\n",
    "        print('Epoch {:>2}, CIFAR-10 Batch {}:  '.format(epoch + 1, batch_i), end='')\n",
    "        print_stats(sess, batch_features, batch_labels, cost, accuracy)"
   ]
  },
  {
   "cell_type": "markdown",
   "metadata": {
    "deletable": true,
    "editable": true
   },
   "source": [
    "### Fully Train the Model\n",
    "Now that you got a good accuracy with a single CIFAR-10 batch, try it with all five batches."
   ]
  },
  {
   "cell_type": "code",
   "execution_count": 18,
   "metadata": {
    "collapsed": false,
    "deletable": true,
    "editable": true
   },
   "outputs": [
    {
     "name": "stdout",
     "output_type": "stream",
     "text": [
      "Training...\n",
      "Epoch  1, CIFAR-10 Batch 1:  Loss 2.2626664638519287 and Valid accuracy \"0.12600000202655792\"\n",
      "Epoch  1, CIFAR-10 Batch 2:  Loss 2.066882371902466 and Valid accuracy \"0.25519999861717224\"\n",
      "Epoch  1, CIFAR-10 Batch 3:  Loss 1.8485969305038452 and Valid accuracy \"0.25839999318122864\"\n",
      "Epoch  1, CIFAR-10 Batch 4:  Loss 1.8743305206298828 and Valid accuracy \"0.2808000147342682\"\n",
      "Epoch  1, CIFAR-10 Batch 5:  Loss 1.8900706768035889 and Valid accuracy \"0.328000009059906\"\n",
      "Epoch  2, CIFAR-10 Batch 1:  Loss 1.884289026260376 and Valid accuracy \"0.3716000020503998\"\n",
      "Epoch  2, CIFAR-10 Batch 2:  Loss 1.8148969411849976 and Valid accuracy \"0.3905999958515167\"\n",
      "Epoch  2, CIFAR-10 Batch 3:  Loss 1.300236463546753 and Valid accuracy \"0.3917999863624573\"\n",
      "Epoch  2, CIFAR-10 Batch 4:  Loss 1.53754723072052 and Valid accuracy \"0.4341999888420105\"\n",
      "Epoch  2, CIFAR-10 Batch 5:  Loss 1.6912314891815186 and Valid accuracy \"0.428600013256073\"\n",
      "Epoch  3, CIFAR-10 Batch 1:  Loss 1.6621835231781006 and Valid accuracy \"0.44279998540878296\"\n",
      "Epoch  3, CIFAR-10 Batch 2:  Loss 1.669659972190857 and Valid accuracy \"0.45820000767707825\"\n",
      "Epoch  3, CIFAR-10 Batch 3:  Loss 1.1626389026641846 and Valid accuracy \"0.4487999975681305\"\n",
      "Epoch  3, CIFAR-10 Batch 4:  Loss 1.3835561275482178 and Valid accuracy \"0.4758000075817108\"\n",
      "Epoch  3, CIFAR-10 Batch 5:  Loss 1.5143722295761108 and Valid accuracy \"0.4724000096321106\"\n",
      "Epoch  4, CIFAR-10 Batch 1:  Loss 1.5764641761779785 and Valid accuracy \"0.4860000014305115\"\n",
      "Epoch  4, CIFAR-10 Batch 2:  Loss 1.5037091970443726 and Valid accuracy \"0.48019999265670776\"\n",
      "Epoch  4, CIFAR-10 Batch 3:  Loss 1.0416454076766968 and Valid accuracy \"0.4803999960422516\"\n",
      "Epoch  4, CIFAR-10 Batch 4:  Loss 1.2903417348861694 and Valid accuracy \"0.498199999332428\"\n",
      "Epoch  4, CIFAR-10 Batch 5:  Loss 1.3797475099563599 and Valid accuracy \"0.49480000138282776\"\n",
      "Epoch  5, CIFAR-10 Batch 1:  Loss 1.4848442077636719 and Valid accuracy \"0.5049999952316284\"\n",
      "Epoch  5, CIFAR-10 Batch 2:  Loss 1.3776843547821045 and Valid accuracy \"0.5\"\n",
      "Epoch  5, CIFAR-10 Batch 3:  Loss 0.9693536758422852 and Valid accuracy \"0.5008000135421753\"\n",
      "Epoch  5, CIFAR-10 Batch 4:  Loss 1.2031265497207642 and Valid accuracy \"0.5188000202178955\"\n",
      "Epoch  5, CIFAR-10 Batch 5:  Loss 1.2910364866256714 and Valid accuracy \"0.5109999775886536\"\n",
      "Epoch  6, CIFAR-10 Batch 1:  Loss 1.387291669845581 and Valid accuracy \"0.5210000276565552\"\n",
      "Epoch  6, CIFAR-10 Batch 2:  Loss 1.2633001804351807 and Valid accuracy \"0.5153999924659729\"\n",
      "Epoch  6, CIFAR-10 Batch 3:  Loss 0.9061519503593445 and Valid accuracy \"0.5094000101089478\"\n",
      "Epoch  6, CIFAR-10 Batch 4:  Loss 1.1148653030395508 and Valid accuracy \"0.5320000052452087\"\n",
      "Epoch  6, CIFAR-10 Batch 5:  Loss 1.224442720413208 and Valid accuracy \"0.5275999903678894\"\n",
      "Epoch  7, CIFAR-10 Batch 1:  Loss 1.3043986558914185 and Valid accuracy \"0.5267999768257141\"\n",
      "Epoch  7, CIFAR-10 Batch 2:  Loss 1.1524993181228638 and Valid accuracy \"0.5306000113487244\"\n",
      "Epoch  7, CIFAR-10 Batch 3:  Loss 0.8412212133407593 and Valid accuracy \"0.5217999815940857\"\n",
      "Epoch  7, CIFAR-10 Batch 4:  Loss 1.0331897735595703 and Valid accuracy \"0.5428000092506409\"\n",
      "Epoch  7, CIFAR-10 Batch 5:  Loss 1.1551681756973267 and Valid accuracy \"0.5422000288963318\"\n",
      "Epoch  8, CIFAR-10 Batch 1:  Loss 1.2159982919692993 and Valid accuracy \"0.5397999882698059\"\n",
      "Epoch  8, CIFAR-10 Batch 2:  Loss 1.0487449169158936 and Valid accuracy \"0.5436000227928162\"\n",
      "Epoch  8, CIFAR-10 Batch 3:  Loss 0.7587307691574097 and Valid accuracy \"0.5407999753952026\"\n",
      "Epoch  8, CIFAR-10 Batch 4:  Loss 0.9322882890701294 and Valid accuracy \"0.5564000010490417\"\n",
      "Epoch  8, CIFAR-10 Batch 5:  Loss 1.0715649127960205 and Valid accuracy \"0.5527999997138977\"\n",
      "Epoch  9, CIFAR-10 Batch 1:  Loss 1.1203968524932861 and Valid accuracy \"0.5562000274658203\"\n",
      "Epoch  9, CIFAR-10 Batch 2:  Loss 0.9605401754379272 and Valid accuracy \"0.5601999759674072\"\n",
      "Epoch  9, CIFAR-10 Batch 3:  Loss 0.6848027110099792 and Valid accuracy \"0.5547999739646912\"\n",
      "Epoch  9, CIFAR-10 Batch 4:  Loss 0.8346894979476929 and Valid accuracy \"0.5681999921798706\"\n",
      "Epoch  9, CIFAR-10 Batch 5:  Loss 0.9914535284042358 and Valid accuracy \"0.5644000172615051\"\n",
      "Epoch 10, CIFAR-10 Batch 1:  Loss 1.0272432565689087 and Valid accuracy \"0.5717999935150146\"\n",
      "Epoch 10, CIFAR-10 Batch 2:  Loss 0.8543788194656372 and Valid accuracy \"0.5663999915122986\"\n",
      "Epoch 10, CIFAR-10 Batch 3:  Loss 0.6232558488845825 and Valid accuracy \"0.5698000192642212\"\n",
      "Epoch 10, CIFAR-10 Batch 4:  Loss 0.7423876523971558 and Valid accuracy \"0.5821999907493591\"\n",
      "Epoch 10, CIFAR-10 Batch 5:  Loss 0.8952215313911438 and Valid accuracy \"0.578000009059906\"\n",
      "Epoch 11, CIFAR-10 Batch 1:  Loss 0.9474843144416809 and Valid accuracy \"0.5843999981880188\"\n",
      "Epoch 11, CIFAR-10 Batch 2:  Loss 0.7637240290641785 and Valid accuracy \"0.5598000288009644\"\n",
      "Epoch 11, CIFAR-10 Batch 3:  Loss 0.5623955726623535 and Valid accuracy \"0.5863999724388123\"\n",
      "Epoch 11, CIFAR-10 Batch 4:  Loss 0.6575620770454407 and Valid accuracy \"0.5917999744415283\"\n",
      "Epoch 11, CIFAR-10 Batch 5:  Loss 0.8156468272209167 and Valid accuracy \"0.5881999731063843\"\n",
      "Epoch 12, CIFAR-10 Batch 1:  Loss 0.8783445358276367 and Valid accuracy \"0.5917999744415283\"\n",
      "Epoch 12, CIFAR-10 Batch 2:  Loss 0.673285961151123 and Valid accuracy \"0.5705999732017517\"\n",
      "Epoch 12, CIFAR-10 Batch 3:  Loss 0.51859050989151 and Valid accuracy \"0.5997999906539917\"\n",
      "Epoch 12, CIFAR-10 Batch 4:  Loss 0.5979234576225281 and Valid accuracy \"0.6019999980926514\"\n",
      "Epoch 12, CIFAR-10 Batch 5:  Loss 0.7309575080871582 and Valid accuracy \"0.593999981880188\"\n",
      "Epoch 13, CIFAR-10 Batch 1:  Loss 0.781093180179596 and Valid accuracy \"0.6032000184059143\"\n",
      "Epoch 13, CIFAR-10 Batch 2:  Loss 0.6022397875785828 and Valid accuracy \"0.5827999711036682\"\n",
      "Epoch 13, CIFAR-10 Batch 3:  Loss 0.4688129425048828 and Valid accuracy \"0.604200005531311\"\n",
      "Epoch 13, CIFAR-10 Batch 4:  Loss 0.5498629808425903 and Valid accuracy \"0.6043999791145325\"\n",
      "Epoch 13, CIFAR-10 Batch 5:  Loss 0.655069887638092 and Valid accuracy \"0.600600004196167\"\n",
      "Epoch 14, CIFAR-10 Batch 1:  Loss 0.6940045356750488 and Valid accuracy \"0.6046000123023987\"\n",
      "Epoch 14, CIFAR-10 Batch 2:  Loss 0.5436782836914062 and Valid accuracy \"0.5899999737739563\"\n",
      "Epoch 14, CIFAR-10 Batch 3:  Loss 0.4320283830165863 and Valid accuracy \"0.6074000000953674\"\n",
      "Epoch 14, CIFAR-10 Batch 4:  Loss 0.5016782879829407 and Valid accuracy \"0.6096000075340271\"\n",
      "Epoch 14, CIFAR-10 Batch 5:  Loss 0.5859822630882263 and Valid accuracy \"0.605400025844574\"\n",
      "Epoch 15, CIFAR-10 Batch 1:  Loss 0.6205633878707886 and Valid accuracy \"0.6133999824523926\"\n",
      "Epoch 15, CIFAR-10 Batch 2:  Loss 0.4866388738155365 and Valid accuracy \"0.5992000102996826\"\n",
      "Epoch 15, CIFAR-10 Batch 3:  Loss 0.3955112099647522 and Valid accuracy \"0.6118000149726868\"\n",
      "Epoch 15, CIFAR-10 Batch 4:  Loss 0.4526529312133789 and Valid accuracy \"0.6137999892234802\"\n",
      "Epoch 15, CIFAR-10 Batch 5:  Loss 0.531153678894043 and Valid accuracy \"0.6128000020980835\"\n",
      "Epoch 16, CIFAR-10 Batch 1:  Loss 0.5500040054321289 and Valid accuracy \"0.6195999979972839\"\n",
      "Epoch 16, CIFAR-10 Batch 2:  Loss 0.44145745038986206 and Valid accuracy \"0.6069999933242798\"\n",
      "Epoch 16, CIFAR-10 Batch 3:  Loss 0.3618936836719513 and Valid accuracy \"0.6114000082015991\"\n",
      "Epoch 16, CIFAR-10 Batch 4:  Loss 0.41123706102371216 and Valid accuracy \"0.618399977684021\"\n",
      "Epoch 16, CIFAR-10 Batch 5:  Loss 0.4797798991203308 and Valid accuracy \"0.6195999979972839\"\n",
      "Epoch 17, CIFAR-10 Batch 1:  Loss 0.49753516912460327 and Valid accuracy \"0.6277999877929688\"\n",
      "Epoch 17, CIFAR-10 Batch 2:  Loss 0.3987313210964203 and Valid accuracy \"0.6114000082015991\"\n",
      "Epoch 17, CIFAR-10 Batch 3:  Loss 0.32153546810150146 and Valid accuracy \"0.618399977684021\"\n",
      "Epoch 17, CIFAR-10 Batch 4:  Loss 0.3660948872566223 and Valid accuracy \"0.6226000189781189\"\n",
      "Epoch 17, CIFAR-10 Batch 5:  Loss 0.4337534010410309 and Valid accuracy \"0.6251999735832214\"\n",
      "Epoch 18, CIFAR-10 Batch 1:  Loss 0.45463937520980835 and Valid accuracy \"0.6254000067710876\"\n",
      "Epoch 18, CIFAR-10 Batch 2:  Loss 0.3657780587673187 and Valid accuracy \"0.6173999905586243\"\n",
      "Epoch 18, CIFAR-10 Batch 3:  Loss 0.32444825768470764 and Valid accuracy \"0.6100000143051147\"\n",
      "Epoch 18, CIFAR-10 Batch 4:  Loss 0.3304160237312317 and Valid accuracy \"0.6305999755859375\"\n",
      "Epoch 18, CIFAR-10 Batch 5:  Loss 0.38863855600357056 and Valid accuracy \"0.6266000270843506\"\n",
      "Epoch 19, CIFAR-10 Batch 1:  Loss 0.423902690410614 and Valid accuracy \"0.6191999912261963\"\n",
      "Epoch 19, CIFAR-10 Batch 2:  Loss 0.34418824315071106 and Valid accuracy \"0.6197999715805054\"\n",
      "Epoch 19, CIFAR-10 Batch 3:  Loss 0.3171375095844269 and Valid accuracy \"0.620199978351593\"\n",
      "Epoch 19, CIFAR-10 Batch 4:  Loss 0.3192613422870636 and Valid accuracy \"0.6304000020027161\"\n",
      "Epoch 19, CIFAR-10 Batch 5:  Loss 0.3470783233642578 and Valid accuracy \"0.6269999742507935\"\n",
      "Epoch 20, CIFAR-10 Batch 1:  Loss 0.3830375075340271 and Valid accuracy \"0.6241999864578247\"\n",
      "Epoch 20, CIFAR-10 Batch 2:  Loss 0.3529057800769806 and Valid accuracy \"0.6218000054359436\"\n",
      "Epoch 20, CIFAR-10 Batch 3:  Loss 0.29564061760902405 and Valid accuracy \"0.6187999844551086\"\n",
      "Epoch 20, CIFAR-10 Batch 4:  Loss 0.28537845611572266 and Valid accuracy \"0.628600001335144\"\n",
      "Epoch 20, CIFAR-10 Batch 5:  Loss 0.3125378489494324 and Valid accuracy \"0.6323999762535095\"\n",
      "Epoch 21, CIFAR-10 Batch 1:  Loss 0.3580581545829773 and Valid accuracy \"0.6161999702453613\"\n",
      "Epoch 21, CIFAR-10 Batch 2:  Loss 0.33439475297927856 and Valid accuracy \"0.6176000237464905\"\n",
      "Epoch 21, CIFAR-10 Batch 3:  Loss 0.26352810859680176 and Valid accuracy \"0.621399998664856\"\n",
      "Epoch 21, CIFAR-10 Batch 4:  Loss 0.24759988486766815 and Valid accuracy \"0.6322000026702881\"\n",
      "Epoch 21, CIFAR-10 Batch 5:  Loss 0.27665919065475464 and Valid accuracy \"0.6376000046730042\"\n",
      "Epoch 22, CIFAR-10 Batch 1:  Loss 0.31797531247138977 and Valid accuracy \"0.6179999709129333\"\n",
      "Epoch 22, CIFAR-10 Batch 2:  Loss 0.297451913356781 and Valid accuracy \"0.6200000047683716\"\n",
      "Epoch 22, CIFAR-10 Batch 3:  Loss 0.22026017308235168 and Valid accuracy \"0.6226000189781189\"\n",
      "Epoch 22, CIFAR-10 Batch 4:  Loss 0.21307337284088135 and Valid accuracy \"0.6353999972343445\"\n",
      "Epoch 22, CIFAR-10 Batch 5:  Loss 0.2428877353668213 and Valid accuracy \"0.6394000053405762\"\n",
      "Epoch 23, CIFAR-10 Batch 1:  Loss 0.2778865396976471 and Valid accuracy \"0.6244000196456909\"\n",
      "Epoch 23, CIFAR-10 Batch 2:  Loss 0.24910564720630646 and Valid accuracy \"0.6240000128746033\"\n",
      "Epoch 23, CIFAR-10 Batch 3:  Loss 0.2021242082118988 and Valid accuracy \"0.6258000135421753\"\n",
      "Epoch 23, CIFAR-10 Batch 4:  Loss 0.20175588130950928 and Valid accuracy \"0.6327999830245972\"\n",
      "Epoch 23, CIFAR-10 Batch 5:  Loss 0.2164357602596283 and Valid accuracy \"0.6460000276565552\"\n",
      "Epoch 24, CIFAR-10 Batch 1:  Loss 0.25250786542892456 and Valid accuracy \"0.6309999823570251\"\n",
      "Epoch 24, CIFAR-10 Batch 2:  Loss 0.22026792168617249 and Valid accuracy \"0.6281999945640564\"\n",
      "Epoch 24, CIFAR-10 Batch 3:  Loss 0.1826266050338745 and Valid accuracy \"0.631600022315979\"\n",
      "Epoch 24, CIFAR-10 Batch 4:  Loss 0.18849563598632812 and Valid accuracy \"0.6394000053405762\"\n",
      "Epoch 24, CIFAR-10 Batch 5:  Loss 0.20010443031787872 and Valid accuracy \"0.6416000127792358\"\n",
      "Epoch 25, CIFAR-10 Batch 1:  Loss 0.2348623275756836 and Valid accuracy \"0.6341999769210815\"\n",
      "Epoch 25, CIFAR-10 Batch 2:  Loss 0.19248007237911224 and Valid accuracy \"0.6305999755859375\"\n",
      "Epoch 25, CIFAR-10 Batch 3:  Loss 0.1568659543991089 and Valid accuracy \"0.6348000168800354\"\n",
      "Epoch 25, CIFAR-10 Batch 4:  Loss 0.16565728187561035 and Valid accuracy \"0.6413999795913696\"\n",
      "Epoch 25, CIFAR-10 Batch 5:  Loss 0.18523509800434113 and Valid accuracy \"0.6358000040054321\"\n"
     ]
    }
   ],
   "source": [
    "\"\"\"\n",
    "DON'T MODIFY ANYTHING IN THIS CELL\n",
    "\"\"\"\n",
    "save_model_path = './image_classification'\n",
    "\n",
    "print('Training...')\n",
    "with tf.Session() as sess:\n",
    "    # Initializing the variables\n",
    "    sess.run(tf.global_variables_initializer())\n",
    "    \n",
    "    # Training cycle\n",
    "    for epoch in range(epochs):\n",
    "        # Loop over all batches\n",
    "        n_batches = 5\n",
    "        for batch_i in range(1, n_batches + 1):\n",
    "            for batch_features, batch_labels in helper.load_preprocess_training_batch(batch_i, batch_size):\n",
    "                train_neural_network(sess, optimizer, keep_probability, batch_features, batch_labels)\n",
    "            print('Epoch {:>2}, CIFAR-10 Batch {}:  '.format(epoch + 1, batch_i), end='')\n",
    "            print_stats(sess, batch_features, batch_labels, cost, accuracy)\n",
    "            \n",
    "    # Save Model\n",
    "    saver = tf.train.Saver()\n",
    "    save_path = saver.save(sess, save_model_path)"
   ]
  },
  {
   "cell_type": "markdown",
   "metadata": {
    "deletable": true,
    "editable": true
   },
   "source": [
    "# Checkpoint\n",
    "The model has been saved to disk.\n",
    "## Test Model\n",
    "Test your model against the test dataset.  This will be your final accuracy. You should have an accuracy greater than 50%. If you don't, keep tweaking the model architecture and parameters."
   ]
  },
  {
   "cell_type": "code",
   "execution_count": 19,
   "metadata": {
    "collapsed": false,
    "deletable": true,
    "editable": true,
    "scrolled": false
   },
   "outputs": [
    {
     "name": "stdout",
     "output_type": "stream",
     "text": [
      "Testing Accuracy: 0.6314453125\n",
      "\n"
     ]
    },
    {
     "data": {
      "image/png": "[encoded data removed]",
      "text/plain": [
       "<matplotlib.figure.Figure at 0x127a3c780>"
      ]
     },
     "metadata": {
      "image/png": {
       "height": 319,
       "width": 355
      }
     },
     "output_type": "display_data"
    }
   ],
   "source": [
    "\"\"\"\n",
    "DON'T MODIFY ANYTHING IN THIS CELL\n",
    "\"\"\"\n",
    "%matplotlib inline\n",
    "%config InlineBackend.figure_format = 'retina'\n",
    "\n",
    "import tensorflow as tf\n",
    "import pickle\n",
    "import helper\n",
    "import random\n",
    "\n",
    "# Set batch size if not already set\n",
    "try:\n",
    "    if batch_size:\n",
    "        pass\n",
    "except NameError:\n",
    "    batch_size = 64\n",
    "\n",
    "save_model_path = './image_classification'\n",
    "n_samples = 4\n",
    "top_n_predictions = 3\n",
    "\n",
    "def test_model():\n",
    "    \"\"\"\n",
    "    Test the saved model against the test dataset\n",
    "    \"\"\"\n",
    "\n",
    "    test_features, test_labels = pickle.load(open('preprocess_training.p', mode='rb'))\n",
    "    loaded_graph = tf.Graph()\n",
    "\n",
    "    with tf.Session(graph=loaded_graph) as sess:\n",
    "        # Load model\n",
    "        loader = tf.train.import_meta_graph(save_model_path + '.meta')\n",
    "        loader.restore(sess, save_model_path)\n",
    "\n",
    "        # Get Tensors from loaded model\n",
    "        loaded_x = loaded_graph.get_tensor_by_name('x:0')\n",
    "        loaded_y = loaded_graph.get_tensor_by_name('y:0')\n",
    "        loaded_keep_prob = loaded_graph.get_tensor_by_name('keep_prob:0')\n",
    "        loaded_logits = loaded_graph.get_tensor_by_name('logits:0')\n",
    "        loaded_acc = loaded_graph.get_tensor_by_name('accuracy:0')\n",
    "        \n",
    "        # Get accuracy in batches for memory limitations\n",
    "        test_batch_acc_total = 0\n",
    "        test_batch_count = 0\n",
    "        \n",
    "        for train_feature_batch, train_label_batch in helper.batch_features_labels(test_features, test_labels, batch_size):\n",
    "            test_batch_acc_total += sess.run(\n",
    "                loaded_acc,\n",
    "                feed_dict={loaded_x: train_feature_batch, loaded_y: train_label_batch, loaded_keep_prob: 1.0})\n",
    "            test_batch_count += 1\n",
    "\n",
    "        print('Testing Accuracy: {}\\n'.format(test_batch_acc_total/test_batch_count))\n",
    "\n",
    "        # Print Random Samples\n",
    "        random_test_features, random_test_labels = tuple(zip(*random.sample(list(zip(test_features, test_labels)), n_samples)))\n",
    "        random_test_predictions = sess.run(\n",
    "            tf.nn.top_k(tf.nn.softmax(loaded_logits), top_n_predictions),\n",
    "            feed_dict={loaded_x: random_test_features, loaded_y: random_test_labels, loaded_keep_prob: 1.0})\n",
    "        helper.display_image_predictions(random_test_features, random_test_labels, random_test_predictions)\n",
    "\n",
    "\n",
    "test_model()"
   ]
  },
  {
   "cell_type": "markdown",
   "metadata": {
    "deletable": true,
    "editable": true
   },
   "source": [
    "## Why 50-80% Accuracy?\n",
    "You might be wondering why you can't get an accuracy any higher. First things first, 50% isn't bad for a simple CNN.  Pure guessing would get you 10% accuracy. That's because there are many more techniques that can be applied to your model and we recemmond that once you are done with this project, you explore!\n",
    "\n",
    "## Submitting This Project\n",
    "When submitting this project, make sure to run all the cells before saving the notebook.  Save the notebook file as \"image_classification.ipynb\" and save it as a HTML file under \"File\" -> \"Download as\".  Include the \"helper.py\" and \"problem_unittests.py\" files in your submission."
   ]
  }
 ],
 "metadata": {
  "kernelspec": {
   "display_name": "Python 3",
   "language": "python",
   "name": "python3"
  },
  "language_info": {
   "codemirror_mode": {
    "name": "ipython",
    "version": 3
   },
   "file_extension": ".py",
   "mimetype": "text/x-python",
   "name": "python",
   "nbconvert_exporter": "python",
   "pygments_lexer": "ipython3",
   "version": "3.5.3"
  }
 },
 "nbformat": 4,
 "nbformat_minor": 0
}
